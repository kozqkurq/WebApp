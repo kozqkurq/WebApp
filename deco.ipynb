{
 "cells": [
  {
   "cell_type": "code",
   "execution_count": 1,
   "metadata": {},
   "outputs": [],
   "source": [
    "def param_func():\n",
    "    print(\"引数関数の中\")\n",
    "\n",
    "def body_func(param_func):\n",
    "    param_func()"
   ]
  },
  {
   "cell_type": "code",
   "execution_count": 2,
   "metadata": {},
   "outputs": [
    {
     "name": "stdout",
     "output_type": "stream",
     "text": [
      "引数関数の中\n"
     ]
    }
   ],
   "source": [
    "body_func(param_func)"
   ]
  },
  {
   "cell_type": "code",
   "execution_count": 7,
   "metadata": {},
   "outputs": [
    {
     "name": "stdout",
     "output_type": "stream",
     "text": [
      "戻り値関数の中\n"
     ]
    }
   ],
   "source": [
    "def body_func():\n",
    "    def return_func():\n",
    "        print(\"戻り値関数の中\")\n",
    "    return return_func\n",
    "\n",
    "return_func = body_func()\n",
    "return_func()"
   ]
  },
  {
   "cell_type": "code",
   "execution_count": 8,
   "metadata": {},
   "outputs": [
    {
     "name": "stdout",
     "output_type": "stream",
     "text": [
      "引数関数の中\n",
      "引数関数実行後に文字列を出力\n"
     ]
    }
   ],
   "source": [
    "def body_func(param_func):\n",
    "    def return_func():\n",
    "        param_func()\n",
    "        print(\"引数関数実行後に文字列を出力\")\n",
    "    return return_func\n",
    "    \n",
    "return_func = body_func(param_func)\n",
    "return_func() "
   ]
  },
  {
   "cell_type": "code",
   "execution_count": 9,
   "metadata": {},
   "outputs": [
    {
     "name": "stdout",
     "output_type": "stream",
     "text": [
      "これはテスト関数です\n",
      "引数関数実行後に文字列を出力\n"
     ]
    }
   ],
   "source": [
    "@body_func\n",
    "def test_func():\n",
    "    print(\"これはテスト関数です\")\n",
    "\n",
    "test_func()"
   ]
  },
  {
   "cell_type": "code",
   "execution_count": 11,
   "metadata": {},
   "outputs": [
    {
     "name": "stdout",
     "output_type": "stream",
     "text": [
      "これはテスト関数です\n",
      "引数関数実行後にhelloを出力\n"
     ]
    }
   ],
   "source": [
    "def body_func(tag):\n",
    "    def _deco_tag(param_func):\n",
    "        def return_func():\n",
    "            param_func()\n",
    "            print(f\"引数関数実行後に{tag}を出力\")\n",
    "        return return_func\n",
    "    return _deco_tag\n",
    "\n",
    "@body_func(\"hello\")\n",
    "def test_func():\n",
    "    print(\"これはテスト関数です\")\n",
    "\n",
    "test_func()         "
   ]
  },
  {
   "cell_type": "code",
   "execution_count": null,
   "metadata": {},
   "outputs": [],
   "source": []
  }
 ],
 "metadata": {
  "interpreter": {
   "hash": "4f46634cb67509f045071859d1b4d0848ce82ff91b944099fc2236efcbf061c6"
  },
  "kernelspec": {
   "display_name": "Python 3.8.10 ('venv': venv)",
   "language": "python",
   "name": "python3"
  },
  "language_info": {
   "codemirror_mode": {
    "name": "ipython",
    "version": 3
   },
   "file_extension": ".py",
   "mimetype": "text/x-python",
   "name": "python",
   "nbconvert_exporter": "python",
   "pygments_lexer": "ipython3",
   "version": "3.8.10"
  },
  "orig_nbformat": 4
 },
 "nbformat": 4,
 "nbformat_minor": 2
}
