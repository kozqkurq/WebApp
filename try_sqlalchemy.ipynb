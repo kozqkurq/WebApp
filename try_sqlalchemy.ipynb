{
 "cells": [
  {
   "cell_type": "code",
   "execution_count": 1,
   "metadata": {},
   "outputs": [],
   "source": [
    "from sqlalchemy import create_engine\n",
    "from sqlalchemy.orm import Session\n",
    "from test_model import Person"
   ]
  },
  {
   "cell_type": "code",
   "execution_count": 3,
   "metadata": {},
   "outputs": [
    {
     "name": "stdout",
     "output_type": "stream",
     "text": [
      "2022-07-09 15:55:36,773 INFO sqlalchemy.engine.Engine BEGIN (implicit)\n",
      "2022-07-09 15:55:36,774 INFO sqlalchemy.engine.Engine SELECT person.id AS person_id, person.name AS person_name, person.size AS person_size \n",
      "FROM person\n",
      "2022-07-09 15:55:36,775 INFO sqlalchemy.engine.Engine [generated in 0.00057s] ()\n"
     ]
    }
   ],
   "source": [
    "engine = create_engine(\"sqlite:///test_db\", echo=True)\n",
    "session = Session(engine)\n",
    "persons = session.query(Person).all()"
   ]
  },
  {
   "cell_type": "code",
   "execution_count": null,
   "metadata": {},
   "outputs": [],
   "source": [
    "for person in persons:\n",
    "    print(f\"id:{person.id} name:{person.name} size:{person.size}\")"
   ]
  }
 ],
 "metadata": {
  "kernelspec": {
   "display_name": "Python 3.8.10 ('venv': venv)",
   "language": "python",
   "name": "python3"
  },
  "language_info": {
   "codemirror_mode": {
    "name": "ipython",
    "version": 3
   },
   "file_extension": ".py",
   "mimetype": "text/x-python",
   "name": "python",
   "nbconvert_exporter": "python",
   "pygments_lexer": "ipython3",
   "version": "3.8.10"
  },
  "orig_nbformat": 4,
  "vscode": {
   "interpreter": {
    "hash": "4f46634cb67509f045071859d1b4d0848ce82ff91b944099fc2236efcbf061c6"
   }
  }
 },
 "nbformat": 4,
 "nbformat_minor": 2
}
