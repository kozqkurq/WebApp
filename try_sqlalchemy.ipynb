{
 "cells": [
  {
   "cell_type": "code",
   "execution_count": 1,
   "metadata": {},
   "outputs": [],
   "source": [
    "from sqlalchemy import create_engine\n",
    "from sqlalchemy.orm import Session\n",
    "from test_model import Person"
   ]
  },
  {
   "cell_type": "code",
   "execution_count": 3,
   "metadata": {},
   "outputs": [
    {
     "name": "stdout",
     "output_type": "stream",
     "text": [
      "2022-07-09 15:55:36,773 INFO sqlalchemy.engine.Engine BEGIN (implicit)\n",
      "2022-07-09 15:55:36,774 INFO sqlalchemy.engine.Engine SELECT person.id AS person_id, person.name AS person_name, person.size AS person_size \n",
      "FROM person\n",
      "2022-07-09 15:55:36,775 INFO sqlalchemy.engine.Engine [generated in 0.00057s] ()\n"
     ]
    }
   ],
   "source": [
    "engine = create_engine(\"sqlite:///test_db\", echo=True)\n",
    "session = Session(engine)\n",
    "persons = session.query(Person).all()"
   ]
  },
  {
   "cell_type": "code",
   "execution_count": 4,
   "metadata": {},
   "outputs": [
    {
     "name": "stdout",
     "output_type": "stream",
     "text": [
      "id:1 name:name_a size:10.5\n",
      "id:3 name:c_update size:3.14\n"
     ]
    }
   ],
   "source": [
    "for person in persons:\n",
    "    print(f\"id:{person.id} name:{person.name} size:{person.size}\")"
   ]
  },
  {
   "cell_type": "code",
   "execution_count": 5,
   "metadata": {},
   "outputs": [],
   "source": [
    "new_person = Person(id=4, name=\"from_model\", size=100)\n",
    "session.add(new_person)"
   ]
  },
  {
   "cell_type": "code",
   "execution_count": 6,
   "metadata": {},
   "outputs": [
    {
     "name": "stdout",
     "output_type": "stream",
     "text": [
      "2022-07-09 15:57:56,686 INFO sqlalchemy.engine.Engine INSERT INTO person (id, name, size) VALUES (?, ?, ?)\n",
      "2022-07-09 15:57:56,688 INFO sqlalchemy.engine.Engine [generated in 0.00241s] (4, 'from_model', 100.0)\n",
      "2022-07-09 15:57:56,695 INFO sqlalchemy.engine.Engine COMMIT\n"
     ]
    }
   ],
   "source": [
    "session.commit()"
   ]
  },
  {
   "cell_type": "code",
   "execution_count": 9,
   "metadata": {},
   "outputs": [
    {
     "name": "stdout",
     "output_type": "stream",
     "text": [
      "2022-07-09 15:59:01,933 INFO sqlalchemy.engine.Engine SELECT person.id AS person_id, person.name AS person_name, person.size AS person_size \n",
      "FROM person\n",
      "2022-07-09 15:59:01,936 INFO sqlalchemy.engine.Engine [cached since 205.2s ago] ()\n",
      "{'_sa_instance_state': <sqlalchemy.orm.state.InstanceState object at 0x7fb8797b7430>, 'size': 10.5, 'id': 1, 'name': 'name_a'}\n",
      "{'_sa_instance_state': <sqlalchemy.orm.state.InstanceState object at 0x7fb8797b74c0>, 'size': 3.14, 'id': 3, 'name': 'c_update'}\n",
      "{'_sa_instance_state': <sqlalchemy.orm.state.InstanceState object at 0x7fb879884d90>, 'size': 100.0, 'id': 4, 'name': 'from_model'}\n"
     ]
    }
   ],
   "source": [
    "persons = session.query(Person).all()\n",
    "for person in persons:\n",
    "    print(person.__dict__)"
   ]
  },
  {
   "cell_type": "code",
   "execution_count": 10,
   "metadata": {},
   "outputs": [
    {
     "name": "stdout",
     "output_type": "stream",
     "text": [
      "2022-07-09 15:59:44,127 INFO sqlalchemy.engine.Engine SELECT person.id AS person_id, person.name AS person_name, person.size AS person_size \n",
      "FROM person \n",
      "WHERE person.id = ?\n",
      " LIMIT ? OFFSET ?\n",
      "2022-07-09 15:59:44,129 INFO sqlalchemy.engine.Engine [generated in 0.00216s] (4, 1, 0)\n"
     ]
    }
   ],
   "source": [
    "person4 = session.query(Person).filter(Person.id==4).first()"
   ]
  },
  {
   "cell_type": "code",
   "execution_count": 11,
   "metadata": {},
   "outputs": [],
   "source": [
    "person4.size = 2.236"
   ]
  },
  {
   "cell_type": "code",
   "execution_count": 12,
   "metadata": {},
   "outputs": [
    {
     "name": "stdout",
     "output_type": "stream",
     "text": [
      "2022-07-09 16:00:20,476 INFO sqlalchemy.engine.Engine UPDATE person SET size=? WHERE person.id = ?\n",
      "2022-07-09 16:00:20,478 INFO sqlalchemy.engine.Engine [generated in 0.00160s] (2.236, 4)\n",
      "2022-07-09 16:00:20,486 INFO sqlalchemy.engine.Engine COMMIT\n"
     ]
    }
   ],
   "source": [
    "session.commit()"
   ]
  },
  {
   "cell_type": "code",
   "execution_count": 13,
   "metadata": {},
   "outputs": [
    {
     "name": "stdout",
     "output_type": "stream",
     "text": [
      "2022-07-09 16:01:19,442 INFO sqlalchemy.engine.Engine BEGIN (implicit)\n",
      "2022-07-09 16:01:19,443 INFO sqlalchemy.engine.Engine DELETE FROM person WHERE person.size > ?\n",
      "2022-07-09 16:01:19,444 INFO sqlalchemy.engine.Engine [generated in 0.00060s] (10,)\n",
      "2022-07-09 16:01:19,450 INFO sqlalchemy.engine.Engine COMMIT\n"
     ]
    }
   ],
   "source": [
    "session.query(Person).filter(Person.size>10).delete()\n",
    "session.commit()"
   ]
  },
  {
   "cell_type": "code",
   "execution_count": 14,
   "metadata": {},
   "outputs": [
    {
     "name": "stdout",
     "output_type": "stream",
     "text": [
      "2022-07-09 16:03:03,151 INFO sqlalchemy.engine.Engine BEGIN (implicit)\n",
      "2022-07-09 16:03:03,152 INFO sqlalchemy.engine.Engine SELECT * FROM person WHERE id = ?\n",
      "2022-07-09 16:03:03,153 INFO sqlalchemy.engine.Engine [generated in 0.00091s] (4,)\n",
      "(4, 'from_model', 2.236)\n"
     ]
    }
   ],
   "source": [
    "result_list = session.execute(\"SELECT * FROM person WHERE id = :id\", {\"id\":4})\n",
    "for result in result_list:\n",
    "    print(result)"
   ]
  },
  {
   "cell_type": "code",
   "execution_count": 15,
   "metadata": {},
   "outputs": [
    {
     "name": "stdout",
     "output_type": "stream",
     "text": [
      "2022-07-09 16:04:30,164 INFO sqlalchemy.engine.Engine ROLLBACK\n"
     ]
    }
   ],
   "source": [
    "session.close()"
   ]
  }
 ],
 "metadata": {
  "kernelspec": {
   "display_name": "Python 3.8.10 ('venv': venv)",
   "language": "python",
   "name": "python3"
  },
  "language_info": {
   "codemirror_mode": {
    "name": "ipython",
    "version": 3
   },
   "file_extension": ".py",
   "mimetype": "text/x-python",
   "name": "python",
   "nbconvert_exporter": "python",
   "pygments_lexer": "ipython3",
   "version": "3.8.10"
  },
  "orig_nbformat": 4,
  "vscode": {
   "interpreter": {
    "hash": "4f46634cb67509f045071859d1b4d0848ce82ff91b944099fc2236efcbf061c6"
   }
  }
 },
 "nbformat": 4,
 "nbformat_minor": 2
}
